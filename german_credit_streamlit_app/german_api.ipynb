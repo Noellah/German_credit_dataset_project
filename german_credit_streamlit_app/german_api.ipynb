{
 "cells": [
  {
   "cell_type": "code",
   "execution_count": 1,
   "metadata": {
    "id": "WnjC3isb8zaa"
   },
   "outputs": [],
   "source": [
    "#!pip install streamlit --quiet\n",
    "#!pip install catboost --quiet"
   ]
  },
  {
   "cell_type": "code",
   "execution_count": 5,
   "metadata": {
    "id": "IxRUST4VuHAm"
   },
   "outputs": [],
   "source": [
    "%reset -fs"
   ]
  },
  {
   "cell_type": "code",
   "execution_count": 6,
   "metadata": {
    "id": "0l7Je7r68mTa"
   },
   "outputs": [],
   "source": [
    "import streamlit as st\n",
    "import pandas as pd\n",
    "import numpy as np\n",
    "#from sklearn.preprocessing import OneHotEncoder, StandardScaler\n",
    "#from imblearn.over_sampling import SMOTE\n",
    "from sklearn.model_selection import train_test_split\n",
    "from sklearn.linear_model import LogisticRegression\n",
    "from catboost import CatBoostClassifier\n",
    "from sklearn.metrics import accuracy_score, classification_report\n",
    "from sklearn.metrics import fbeta_score, make_scorer\n",
    "\n",
    "# Load the dataset\n",
    "# url = 'https://archive.ics.uci.edu/ml/machine-learning-databases/statlog/german/german.data'\n",
    "#url = 'german_credit_dataset.csv'\n",
    "#df = pd.read_csv(url, header=None, sep=' ')\n",
    "#df.columns = ['Checking_acct_status', 'Duration_months', 'Credit_history', 'Purpose', 'Credit_amount',\n",
    "#           'Savings', 'Years_employed', 'Installment_rate', 'Status', 'Debtors', 'Residence', 'Property',\n",
    "#           'Age', 'Other_installment_plans', 'Housing', 'No_existing_credits', 'Job', 'Dependants',\n",
    "#           'Telephone', 'Foreign_worker', 'Target']\n",
    "\n",
    "df = pd.read_csv('german_credit_dataset_mapp.csv')\n",
    "cat_cols = ['Checking_acct_status', 'Credit_history', 'Purpose', 'Savings', 'Years_employed', 'Installment_rate', 'Debtors', 'Residence', \n",
    "            'Property', 'Other_installment_plans', 'Housing', 'No_existing_credits', 'Job', 'Dependants', 'Telephone', 'Foreign_worker'] \n",
    "\n",
    "RANDOM_SEED = 42\n",
    "\n",
    "X = df.drop(['Target','Status'], axis=1) #dropped 'Status' which refers to 'Personal status and sex' of person which likely create bias\n",
    "X.head()\n",
    "\n",
    "df.Target[df['Target']==1] = 0\n",
    "df.Target[df['Target']==2] = 1\n",
    "y = df.Target\n",
    "\n",
    "X_train, X_valid, y_train, y_valid = train_test_split(X, y, test_size=0.2, \n",
    "                                                            stratify=y, \n",
    "                                                            random_state=RANDOM_SEED)\n",
    "\n",
    "# Machine learning model\n",
    "model = CatBoostClassifier(random_state=RANDOM_SEED).fit(X_train, y_train, silent=True, cat_features=cat_cols) \n",
    "\n"
   ]
  },
  {
   "cell_type": "code",
   "execution_count": 7,
   "metadata": {
    "id": "NFeiCOXE9NTJ"
   },
   "outputs": [],
   "source": [
    "model.save_model('catboost_model.json')"
   ]
  },
  {
   "cell_type": "code",
   "execution_count": null,
   "metadata": {},
   "outputs": [],
   "source": []
  }
 ],
 "metadata": {
  "colab": {
   "provenance": []
  },
  "kernelspec": {
   "display_name": "Python 3 (ipykernel)",
   "language": "python",
   "name": "python3"
  },
  "language_info": {
   "codemirror_mode": {
    "name": "ipython",
    "version": 3
   },
   "file_extension": ".py",
   "mimetype": "text/x-python",
   "name": "python",
   "nbconvert_exporter": "python",
   "pygments_lexer": "ipython3",
   "version": "3.9.16"
  }
 },
 "nbformat": 4,
 "nbformat_minor": 1
}
